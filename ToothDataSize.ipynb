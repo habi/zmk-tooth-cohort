{
 "cells": [
  {
   "cell_type": "markdown",
   "metadata": {},
   "source": [
    "# Get total dataset size\n",
    "This notebook was used to see how big the projections, reconstructions and .zarr datasets were.\n",
    "It's loosely based on what [we did for the acini project](https://github.com/habi/acinar-analysis/blob/master/DataSizeBragging.ipynb) with Johannes."
   ]
  },
  {
   "cell_type": "code",
   "execution_count": 1,
   "metadata": {},
   "outputs": [],
   "source": [
    "import platform\n",
    "import glob\n",
    "import os\n",
    "import pandas\n",
    "import matplotlib.pyplot as plt\n",
    "import seaborn"
   ]
  },
  {
   "cell_type": "code",
   "execution_count": 2,
   "metadata": {},
   "outputs": [],
   "source": [
    "def get_git_hash():\n",
    "    '''\n",
    "    Get the current git hash from the repository.\n",
    "    Based on http://stackoverflow.com/a/949391/323100 and\n",
    "    http://stackoverflow.com/a/18283905/323100\n",
    "    '''\n",
    "    from subprocess import Popen, PIPE\n",
    "    import os\n",
    "    gitprocess = Popen(['git',\n",
    "                        '--git-dir',\n",
    "                        os.path.join(os.getcwd(), '.git'),\n",
    "                        'rev-parse',\n",
    "                        '--short',\n",
    "                        '--verify',\n",
    "                        'HEAD'],\n",
    "                       stdout=PIPE)\n",
    "    (output, _) = gitprocess.communicate()\n",
    "    return output.strip().decode(\"utf-8\")"
   ]
  },
  {
   "cell_type": "code",
   "execution_count": 3,
   "metadata": {},
   "outputs": [
    {
     "name": "stdout",
     "output_type": "stream",
     "text": [
      "We are saving all the output to P:\\Documents\\ZMK\\Output\\8d1ee91\n"
     ]
    }
   ],
   "source": [
    "# Make directory for output\n",
    "OutPutDir = os.path.join(os.getcwd(), 'Output', get_git_hash())\n",
    "print('We are saving all the output to %s' % OutPutDir)\n",
    "os.makedirs(OutPutDir, exist_ok=True)"
   ]
  },
  {
   "cell_type": "code",
   "execution_count": 4,
   "metadata": {},
   "outputs": [
    {
     "name": "stdout",
     "output_type": "stream",
     "text": [
      "We are loading all the data from D:\\Results\\ZMK\n"
     ]
    }
   ],
   "source": [
    "# Different locations if running either on Linux or Windows\n",
    "FastSSD = False\n",
    "# to speed things up significantly\n",
    "if 'Linux' in platform.system():\n",
    "    if FastSSD:\n",
    "        BasePath = os.path.join(os.sep, 'media', 'habi', 'Fast_SSD')\n",
    "    else:\n",
    "        BasePath = os.path.join(os.sep, 'home', 'habi', '1272')\n",
    "else:\n",
    "    if FastSSD:\n",
    "        BasePath = os.path.join('F:\\\\')\n",
    "    else:\n",
    "        if 'anaklin' in platform.node():\n",
    "            BasePath = os.path.join('S:\\\\')\n",
    "        else:\n",
    "            BasePath = os.path.join('D:\\\\Results')\n",
    "Root = os.path.join(BasePath, 'ZMK')\n",
    "print('We are loading all the data from %s' % Root)"
   ]
  },
  {
   "cell_type": "code",
   "execution_count": 5,
   "metadata": {},
   "outputs": [],
   "source": [
    "# Make us a dataframe for saving all that we need\n",
    "Data = pandas.DataFrame()"
   ]
  },
  {
   "cell_type": "code",
   "execution_count": 6,
   "metadata": {},
   "outputs": [],
   "source": [
    "# Look only for folders: https://stackoverflow.com/a/38216530\n",
    "Data['Folder'] = glob.glob(os.path.join(Root,\n",
    "                                        'ToothBattallion',\n",
    "                                        '*' + os.path.sep))"
   ]
  },
  {
   "cell_type": "code",
   "execution_count": 7,
   "metadata": {},
   "outputs": [
    {
     "name": "stdout",
     "output_type": "stream",
     "text": [
      "We found 104 tooth folders in D:\\Results\\ZMK\n"
     ]
    }
   ],
   "source": [
    "print('We found %s tooth folders in %s' % (len(Data), Root))"
   ]
  },
  {
   "cell_type": "code",
   "execution_count": 9,
   "metadata": {},
   "outputs": [
    {
     "name": "stdout",
     "output_type": "stream",
     "text": [
      "We have 104 log files to work with\n"
     ]
    }
   ],
   "source": [
    "# Get all the log files\n",
    "Data['LogFile'] = [sorted(glob.glob(os.path.join(folder,\n",
    "                                                 'proj',\n",
    "                                                 '*.log')))[0] for folder in Data['Folder']]\n",
    "print('We have %s log files to work with' % (len(Data)))"
   ]
  },
  {
   "cell_type": "code",
   "execution_count": 10,
   "metadata": {},
   "outputs": [],
   "source": [
    "# Construct sample names\n",
    "Data['Sample'] = [os.path.splitext(os.path.basename(logfile))[0] for logfile in Data['LogFile']]"
   ]
  },
  {
   "cell_type": "code",
   "execution_count": 11,
   "metadata": {},
   "outputs": [],
   "source": [
    "# Proper sorting *with* leading zeros :)\n",
    "Data.sort_values(by=['Sample'], inplace=True)"
   ]
  },
  {
   "cell_type": "code",
   "execution_count": 12,
   "metadata": {},
   "outputs": [],
   "source": [
    "# # Temporarily drop some data\n",
    "# Data = Data[:3]\n",
    "# print('We are currently working with a subset of %s teeth' % len(Data))"
   ]
  },
  {
   "cell_type": "code",
   "execution_count": 16,
   "metadata": {},
   "outputs": [],
   "source": [
    "# Get the projection details\n",
    "Data['Projections'] = [sorted(glob.glob(os.path.join(folder,\n",
    "                                                     'proj',\n",
    "                                                     '*.tif'))) for folder in Data['Folder']]\n",
    "Data['NumProj'] = [len(r) for r in Data['Projections']]"
   ]
  },
  {
   "cell_type": "code",
   "execution_count": 17,
   "metadata": {},
   "outputs": [
    {
     "name": "stdout",
     "output_type": "stream",
     "text": [
      "In total, we have 2425 projections over all the 104 datasets\n"
     ]
    }
   ],
   "source": [
    "print('In total, we have %s projections over all the %s datasets'\n",
    "      % (Data['NumProj'].sum(),\n",
    "         len(Data)))"
   ]
  },
  {
   "cell_type": "code",
   "execution_count": 18,
   "metadata": {},
   "outputs": [
    {
     "name": "stdout",
     "output_type": "stream",
     "text": [
      "On average, we recorded about 23 projections for each of the 104 teeth.\n"
     ]
    }
   ],
   "source": [
    "print('On average, we recorded about %s projections for each of the %s teeth.'\n",
    "      % (int(round(Data['NumProj'].mean())),\n",
    "         len(Data)))"
   ]
  },
  {
   "cell_type": "code",
   "execution_count": 19,
   "metadata": {},
   "outputs": [],
   "source": [
    "# Get the size of the original TIF files\n",
    "Data['SizeProj'] = [[os.path.getsize(rec) for rec in recs] for recs in Data['Projections']]\n",
    "Data['SizeProjSum'] = [sum(sizes) for sizes in Data['SizeProj']]"
   ]
  },
  {
   "cell_type": "code",
   "execution_count": 20,
   "metadata": {},
   "outputs": [
    {
     "data": {
      "text/plain": [
       "0     0\n",
       "16    0\n",
       "27    0\n",
       "38    0\n",
       "49    0\n",
       "     ..\n",
       "2     0\n",
       "3     0\n",
       "4     0\n",
       "5     0\n",
       "6     0\n",
       "Name: SizeProjSum, Length: 104, dtype: int64"
      ]
     },
     "execution_count": 20,
     "metadata": {},
     "output_type": "execute_result"
    }
   ],
   "source": [
    "Data['SizeProjSum']"
   ]
  },
  {
   "cell_type": "markdown",
   "metadata": {},
   "source": [
    "To get (nearly) the same size, use\n",
    "````bash\n",
    "du -csb [123]/*.tif\n",
    "````\n",
    "in a Linux console"
   ]
  },
  {
   "cell_type": "code",
   "execution_count": 21,
   "metadata": {},
   "outputs": [
    {
     "name": "stdout",
     "output_type": "stream",
     "text": [
      "On average, the projections of each of the 104 assessed samples are 0.08 GB in size\n"
     ]
    }
   ],
   "source": [
    "print('On average, the projections of each of the %s assessed samples '\n",
    "      'are %0.2f GB in size' % (len(Data),\n",
    "                                Data['SizeProjSum'].mean() * 1e-9))"
   ]
  },
  {
   "cell_type": "code",
   "execution_count": 22,
   "metadata": {},
   "outputs": [
    {
     "name": "stdout",
     "output_type": "stream",
     "text": [
      "In total, all projections are 9 GB in size\n"
     ]
    }
   ],
   "source": [
    "print('In total, all projections are %0.f GB in size' % (Data['SizeProjSum'].sum() * 1e-9))"
   ]
  },
  {
   "cell_type": "markdown",
   "metadata": {},
   "source": [
    "----"
   ]
  },
  {
   "cell_type": "code",
   "execution_count": 23,
   "metadata": {},
   "outputs": [],
   "source": [
    "# Get the file names of the reconstructions\n",
    "Data['Reconstructions'] = [sorted(glob.glob(os.path.join(folder,\n",
    "                                                         'rec',\n",
    "                                                         '*rec*.png'))) for folder in Data['Folder']]\n",
    "Data['NumRec'] = [len(r) for r in Data['Reconstructions']]"
   ]
  },
  {
   "cell_type": "code",
   "execution_count": 24,
   "metadata": {},
   "outputs": [
    {
     "name": "stdout",
     "output_type": "stream",
     "text": [
      "In total, we have 282025 reconstructions for all the 104 datasets\n"
     ]
    }
   ],
   "source": [
    "print('In total, we have %s reconstructions for all the %s datasets'\n",
    "      % (Data['NumRec'].sum(),\n",
    "         len(Data)))"
   ]
  },
  {
   "cell_type": "code",
   "execution_count": 25,
   "metadata": {},
   "outputs": [
    {
     "name": "stdout",
     "output_type": "stream",
     "text": [
      "On average, each of the 104 tooth datasets has about 2712 reconstructions.\n"
     ]
    }
   ],
   "source": [
    "print('On average, each of the %s tooth datasets has about %s reconstructions.'\n",
    "      % (len(Data),\n",
    "         int(round(Data['NumRec'].mean()))))"
   ]
  },
  {
   "cell_type": "code",
   "execution_count": 23,
   "metadata": {},
   "outputs": [],
   "source": [
    "# Get the size of the reconstructions\n",
    "Data['SizeRec'] = [[os.path.getsize(rec) for rec in recs] for recs in Data['Reconstructions']]\n",
    "Data['SizeRecSum'] = [sum(sizes) for sizes in Data['SizeRec']]"
   ]
  },
  {
   "cell_type": "code",
   "execution_count": 24,
   "metadata": {},
   "outputs": [
    {
     "data": {
      "text/plain": [
       "0     2322645692\n",
       "16    3403138701\n",
       "27    4086408490\n",
       "38    3511385613\n",
       "49    3134716556\n",
       "         ...    \n",
       "2     3274405150\n",
       "3     4315113565\n",
       "4     3877259032\n",
       "5     3347123825\n",
       "6     4327010362\n",
       "Name: SizeRecSum, Length: 104, dtype: int64"
      ]
     },
     "execution_count": 24,
     "metadata": {},
     "output_type": "execute_result"
    }
   ],
   "source": [
    "Data['SizeRecSum']"
   ]
  },
  {
   "cell_type": "markdown",
   "metadata": {},
   "source": [
    "To get (nearly) the same size, use\n",
    "````bash\n",
    "du -csb [123]/rec/*.png\n",
    "````\n",
    "in a Linux console"
   ]
  },
  {
   "cell_type": "code",
   "execution_count": 25,
   "metadata": {},
   "outputs": [
    {
     "name": "stdout",
     "output_type": "stream",
     "text": [
      "On average, the reconstructions of each of the 104 assessed samples are 3.13 GB in size\n"
     ]
    }
   ],
   "source": [
    "print('On average, the reconstructions of each of the %s assessed samples '\n",
    "      'are %0.2f GB in size' % (len(Data),\n",
    "                                Data['SizeRecSum'].mean() * 1e-9))"
   ]
  },
  {
   "cell_type": "code",
   "execution_count": 26,
   "metadata": {},
   "outputs": [
    {
     "name": "stdout",
     "output_type": "stream",
     "text": [
      "In total, the reconstructions are 326 GB in size\n"
     ]
    }
   ],
   "source": [
    "print('In total, the reconstructions are %0.f GB in size' % (Data['SizeRecSum'].sum() * 1e-9))"
   ]
  },
  {
   "cell_type": "markdown",
   "metadata": {},
   "source": [
    "----"
   ]
  },
  {
   "cell_type": "code",
   "execution_count": 26,
   "metadata": {},
   "outputs": [],
   "source": [
    "# Get the file names of the zarred reconstructions\n",
    "Data['ReconstructionsZarr'] = [sorted(glob.glob(os.path.join(folder,\n",
    "                                                             '*rec.zarr', '*'))) for folder in Data['Folder']]"
   ]
  },
  {
   "cell_type": "code",
   "execution_count": 28,
   "metadata": {},
   "outputs": [],
   "source": [
    "Data['SizeRecZarr'] = [[os.path.getsize(rec) for rec in recs] for recs in Data['ReconstructionsZarr']]\n",
    "Data['SizeRecZarrSum'] = [sum(sizes) for sizes in Data['SizeRecZarr']]"
   ]
  },
  {
   "cell_type": "code",
   "execution_count": 29,
   "metadata": {},
   "outputs": [
    {
     "data": {
      "text/plain": [
       "0     2236552493\n",
       "16    3269925002\n",
       "27    3848577222\n",
       "38    3534229472\n",
       "49    3196891467\n",
       "         ...    \n",
       "2     3344769715\n",
       "3     4403832286\n",
       "4     4109684013\n",
       "5     3430171788\n",
       "6     4404762486\n",
       "Name: SizeRecZarrSum, Length: 104, dtype: int64"
      ]
     },
     "execution_count": 29,
     "metadata": {},
     "output_type": "execute_result"
    }
   ],
   "source": [
    "Data['SizeRecZarrSum']"
   ]
  },
  {
   "cell_type": "markdown",
   "metadata": {},
   "source": [
    "To get (nearly) the same size, use\n",
    "````bash\n",
    "du -csb [123]/Tooth*_rec.zarr/*\n",
    "````\n",
    "in a Linux console"
   ]
  },
  {
   "cell_type": "code",
   "execution_count": 30,
   "metadata": {},
   "outputs": [
    {
     "name": "stdout",
     "output_type": "stream",
     "text": [
      "On average, the *zarred* reconstructions of each of the 104 assessed samples are 3.17 GB in size\n"
     ]
    }
   ],
   "source": [
    "print('On average, the *zarred* reconstructions of each of the %s assessed samples '\n",
    "      'are %0.2f GB in size' % (len(Data),\n",
    "                                Data['SizeRecZarrSum'].mean() * 1e-9))"
   ]
  },
  {
   "cell_type": "code",
   "execution_count": 31,
   "metadata": {},
   "outputs": [
    {
     "name": "stdout",
     "output_type": "stream",
     "text": [
      "In total, the *zarred* reconstructions are 330 GB in size\n"
     ]
    }
   ],
   "source": [
    "print('In total, the *zarred* reconstructions are %0.f GB in size' % (Data['SizeRecZarrSum'].sum() * 1e-9))"
   ]
  },
  {
   "cell_type": "markdown",
   "metadata": {},
   "source": [
    "----"
   ]
  },
  {
   "cell_type": "code",
   "execution_count": 32,
   "metadata": {},
   "outputs": [],
   "source": [
    "# Get the file names of the zarred reconstructions\n",
    "Data['ReconstructionsCropZarr'] = [sorted(glob.glob(os.path.join(folder,\n",
    "                                                                 '*rec_crop.zarr',\n",
    "                                                                 '*'))) for folder in Data['Folder']]"
   ]
  },
  {
   "cell_type": "code",
   "execution_count": 33,
   "metadata": {},
   "outputs": [],
   "source": [
    "Data['SizeRecCropZarr'] = [[os.path.getsize(rec) for rec in recs] for recs in Data['ReconstructionsCropZarr']]\n",
    "Data['SizeRecCropZarrSum'] = [sum(sizes) for sizes in Data['SizeRecCropZarr']]"
   ]
  },
  {
   "cell_type": "code",
   "execution_count": 34,
   "metadata": {},
   "outputs": [
    {
     "data": {
      "text/plain": [
       "0      732951760\n",
       "16     868776195\n",
       "27    1371973308\n",
       "38    1013726895\n",
       "49     799702689\n",
       "         ...    \n",
       "2     2845728173\n",
       "3      763224010\n",
       "4     3265892359\n",
       "5     3025245060\n",
       "6      769648083\n",
       "Name: SizeRecCropZarrSum, Length: 104, dtype: int64"
      ]
     },
     "execution_count": 34,
     "metadata": {},
     "output_type": "execute_result"
    }
   ],
   "source": [
    "Data['SizeRecCropZarrSum']"
   ]
  },
  {
   "cell_type": "markdown",
   "metadata": {},
   "source": [
    "To get (nearly) the same size, use\n",
    "````bash\n",
    "du -csb [123]/Tooth*_rec_crop.zarr/*\n",
    "````\n",
    "in a Linux console"
   ]
  },
  {
   "cell_type": "code",
   "execution_count": 35,
   "metadata": {},
   "outputs": [
    {
     "name": "stdout",
     "output_type": "stream",
     "text": [
      "On average, the cropped reconstructions of each of the 104 assessed samples are 1.11 GB in size\n"
     ]
    }
   ],
   "source": [
    "print('On average, the cropped reconstructions of each of the %s assessed samples '\n",
    "      'are %0.2f GB in size' % (len(Data),\n",
    "                                Data['SizeRecCropZarrSum'].mean() * 1e-9))"
   ]
  },
  {
   "cell_type": "code",
   "execution_count": 36,
   "metadata": {},
   "outputs": [
    {
     "name": "stdout",
     "output_type": "stream",
     "text": [
      "In total, the cropped reconstructions are 115 GB in size\n"
     ]
    }
   ],
   "source": [
    "print('In total, the cropped reconstructions are %0.f GB in size' % (Data['SizeRecCropZarrSum'].sum() * 1e-9))"
   ]
  },
  {
   "cell_type": "markdown",
   "metadata": {},
   "source": [
    "----"
   ]
  },
  {
   "cell_type": "code",
   "execution_count": 28,
   "metadata": {},
   "outputs": [],
   "source": [
    "# Get the file names of the zarred reconstructions\n",
    "Data['RootCanalZarr'] = [sorted(glob.glob(os.path.join(folder,\n",
    "                                                       '*rootcanal.zarr',\n",
    "                                                       '*'))) for folder in Data['Folder']]"
   ]
  },
  {
   "cell_type": "code",
   "execution_count": 31,
   "metadata": {},
   "outputs": [],
   "source": [
    "Data['SizeRootCanalZarr'] = [[os.path.getsize(rec) for rec in recs] for recs in Data['RootCanalZarr']]\n",
    "Data['SizeRootCanalZarrSum'] = [sum(sizes) for sizes in Data['SizeRootCanalZarr']]"
   ]
  },
  {
   "cell_type": "code",
   "execution_count": 33,
   "metadata": {},
   "outputs": [
    {
     "data": {
      "text/plain": [
       "0      1604058\n",
       "16     1487890\n",
       "27     2422112\n",
       "38     2710712\n",
       "49     2608521\n",
       "        ...   \n",
       "2      7229116\n",
       "3      1780260\n",
       "4     16382915\n",
       "5      7845735\n",
       "6      1529387\n",
       "Name: SizeRootCanalZarrSum, Length: 104, dtype: int64"
      ]
     },
     "execution_count": 33,
     "metadata": {},
     "output_type": "execute_result"
    }
   ],
   "source": [
    "Data['SizeRootCanalZarrSum']"
   ]
  },
  {
   "cell_type": "markdown",
   "metadata": {},
   "source": [
    "To get (nearly) the same size, use\n",
    "````bash\n",
    "du -csb [123]/Tooth*_rootcanal.zarr/*\n",
    "````\n",
    "in a Linux console"
   ]
  },
  {
   "cell_type": "code",
   "execution_count": 34,
   "metadata": {},
   "outputs": [
    {
     "name": "stdout",
     "output_type": "stream",
     "text": [
      "On average, the extracted root canal of each of the 104 assessed samples are 2.97 MB in size\n"
     ]
    }
   ],
   "source": [
    "print('On average, the extracted root canal of each of the %s assessed samples '\n",
    "      'are %0.2f MB in size' % (len(Data),\n",
    "                                Data['SizeRootCanalZarrSum'].mean() * 1e-6))"
   ]
  },
  {
   "cell_type": "code",
   "execution_count": 35,
   "metadata": {},
   "outputs": [
    {
     "name": "stdout",
     "output_type": "stream",
     "text": [
      "In total, the extracted root canals are 309.05 MB in size\n"
     ]
    }
   ],
   "source": [
    "print('In total, the extracted root canals are %0.2f MB in size' % (Data['SizeRootCanalZarrSum'].sum() * 1e-6))"
   ]
  },
  {
   "cell_type": "markdown",
   "metadata": {},
   "source": [
    "----"
   ]
  },
  {
   "cell_type": "code",
   "execution_count": 36,
   "metadata": {},
   "outputs": [],
   "source": [
    "# Get the file names of the reformatted bottom part\n",
    "Data['ApexFiles'] = [sorted(glob.glob(os.path.join(folder,\n",
    "                                                   'apex_reslice',\n",
    "                                                   '*.png'))) for folder in Data['Folder']]"
   ]
  },
  {
   "cell_type": "code",
   "execution_count": 37,
   "metadata": {},
   "outputs": [],
   "source": [
    "Data['SizeApex'] = [[os.path.getsize(rec) for rec in recs] for recs in Data['ApexFiles']]\n",
    "Data['SizeApexSum'] = [sum(sizes) for sizes in Data['SizeApex']]"
   ]
  },
  {
   "cell_type": "code",
   "execution_count": 38,
   "metadata": {},
   "outputs": [
    {
     "data": {
      "text/plain": [
       "0     35818973\n",
       "16    22963837\n",
       "27    38075422\n",
       "38    22788583\n",
       "49    11829993\n",
       "        ...   \n",
       "2     16030677\n",
       "3     21928582\n",
       "4     31148795\n",
       "5     24345631\n",
       "6     48254904\n",
       "Name: SizeApexSum, Length: 104, dtype: int64"
      ]
     },
     "execution_count": 38,
     "metadata": {},
     "output_type": "execute_result"
    }
   ],
   "source": [
    "Data['SizeApexSum']"
   ]
  },
  {
   "cell_type": "markdown",
   "metadata": {},
   "source": [
    "To get (nearly) the same size, use\n",
    "````bash\n",
    "du -csb [123]/Tooth*_apex_reslice/*\n",
    "````\n",
    "in a Linux console"
   ]
  },
  {
   "cell_type": "code",
   "execution_count": 39,
   "metadata": {},
   "outputs": [
    {
     "name": "stdout",
     "output_type": "stream",
     "text": [
      "On average, the extracted apexes of each of the 104 assessed samples are 21.97 MB in size\n"
     ]
    }
   ],
   "source": [
    "print('On average, the extracted apexes of each of the %s assessed samples '\n",
    "      'are %0.2f MB in size' % (len(Data),\n",
    "                                Data['SizeApexSum'].mean() * 1e-6))"
   ]
  },
  {
   "cell_type": "code",
   "execution_count": 40,
   "metadata": {},
   "outputs": [
    {
     "name": "stdout",
     "output_type": "stream",
     "text": [
      "In total, the extracted apexes are 2.28 GB in size\n"
     ]
    }
   ],
   "source": [
    "print('In total, the extracted apexes are %0.2f GB in size' % (Data['SizeApexSum'].sum() * 1e-9))"
   ]
  },
  {
   "cell_type": "code",
   "execution_count": null,
   "metadata": {},
   "outputs": [],
   "source": []
  }
 ],
 "metadata": {
  "anaconda-cloud": {},
  "kernelspec": {
   "display_name": "Python 3",
   "language": "python",
   "name": "python3"
  },
  "language_info": {
   "codemirror_mode": {
    "name": "ipython",
    "version": 3
   },
   "file_extension": ".py",
   "mimetype": "text/x-python",
   "name": "python",
   "nbconvert_exporter": "python",
   "pygments_lexer": "ipython3",
   "version": "3.7.6"
  }
 },
 "nbformat": 4,
 "nbformat_minor": 2
}
